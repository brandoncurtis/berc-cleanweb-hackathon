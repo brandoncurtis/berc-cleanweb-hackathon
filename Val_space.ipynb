{
 "cells": [
  {
   "cell_type": "code",
   "execution_count": null,
   "metadata": {
    "collapsed": false
   },
   "outputs": [],
   "source": [
    "import numpy as np\n",
    "import pandas as pd\n",
    "pd.options.mode.chained_assignment = None  # default='warn'"
   ]
  },
  {
   "cell_type": "code",
   "execution_count": null,
   "metadata": {
    "collapsed": false,
    "scrolled": true
   },
   "outputs": [],
   "source": [
    "df_solar = pd.read_csv('SolarSummaries.csv')\n",
    "df_solar[:3]"
   ]
  },
  {
   "cell_type": "code",
   "execution_count": 1,
   "metadata": {
    "collapsed": false,
    "scrolled": true
   },
   "outputs": [
    {
     "ename": "NameError",
     "evalue": "name 'df_solar' is not defined",
     "output_type": "error",
     "traceback": [
      "\u001b[1;31m---------------------------------------------------------------------------\u001b[0m",
      "\u001b[1;31mNameError\u001b[0m                                 Traceback (most recent call last)",
      "\u001b[1;32m<ipython-input-1-0c95e97f9397>\u001b[0m in \u001b[0;36m<module>\u001b[1;34m()\u001b[0m\n\u001b[1;32m----> 1\u001b[1;33m \u001b[0mdf_sun\u001b[0m \u001b[1;33m=\u001b[0m \u001b[0mdf_solar\u001b[0m\u001b[1;33m[\u001b[0m\u001b[1;33m[\u001b[0m\u001b[1;34m'ZIP'\u001b[0m\u001b[1;33m,\u001b[0m \u001b[1;34m'State'\u001b[0m\u001b[1;33m,\u001b[0m\u001b[1;34m'Annual Average Minimum (kWh/m2/day)'\u001b[0m\u001b[1;33m]\u001b[0m\u001b[1;33m]\u001b[0m\u001b[1;33m\u001b[0m\u001b[0m\n\u001b[0m\u001b[0;32m      2\u001b[0m \u001b[0mdf_sun\u001b[0m\u001b[1;33m.\u001b[0m\u001b[0mcolumns\u001b[0m \u001b[1;33m=\u001b[0m \u001b[1;33m[\u001b[0m\u001b[1;34m'ZIP'\u001b[0m\u001b[1;33m,\u001b[0m\u001b[1;34m'State'\u001b[0m\u001b[1;33m,\u001b[0m\u001b[1;34m'Sun'\u001b[0m\u001b[1;33m]\u001b[0m\u001b[1;33m\u001b[0m\u001b[0m\n\u001b[0;32m      3\u001b[0m \u001b[0mdf_sun\u001b[0m\u001b[1;33m[\u001b[0m\u001b[1;34m'ZIP'\u001b[0m\u001b[1;33m]\u001b[0m \u001b[1;33m=\u001b[0m \u001b[0mdf_sun\u001b[0m\u001b[1;33m[\u001b[0m\u001b[1;34m'ZIP'\u001b[0m\u001b[1;33m]\u001b[0m\u001b[1;33m.\u001b[0m\u001b[0mapply\u001b[0m\u001b[1;33m(\u001b[0m\u001b[1;32mlambda\u001b[0m \u001b[0mx\u001b[0m\u001b[1;33m:\u001b[0m \u001b[0mstr\u001b[0m\u001b[1;33m(\u001b[0m\u001b[0mx\u001b[0m\u001b[1;33m)\u001b[0m\u001b[1;33m.\u001b[0m\u001b[0mzfill\u001b[0m\u001b[1;33m(\u001b[0m\u001b[1;36m5\u001b[0m\u001b[1;33m)\u001b[0m\u001b[1;33m)\u001b[0m\u001b[1;33m\u001b[0m\u001b[0m\n\u001b[0;32m      4\u001b[0m \u001b[0mdf_sun\u001b[0m\u001b[1;33m[\u001b[0m\u001b[1;33m:\u001b[0m\u001b[1;36m3\u001b[0m\u001b[1;33m]\u001b[0m\u001b[1;33m\u001b[0m\u001b[0m\n",
      "\u001b[1;31mNameError\u001b[0m: name 'df_solar' is not defined"
     ]
    }
   ],
   "source": [
    "df_sun = df_solar[['ZIP', 'State','Annual Average Minimum (kWh/m2/day)']]\n",
    "df_sun.columns = ['ZIP','State','Sun']\n",
    "df_sun['ZIP'] = df_sun['ZIP'].apply(lambda x: str(x).zfill(5))\n",
    "df_sun[:3]"
   ]
  },
  {
   "cell_type": "code",
   "execution_count": null,
   "metadata": {
    "collapsed": false
   },
   "outputs": [],
   "source": [
    "df_census = pd.read_csv('ACS_13_5YR_DP04_with_ann.csv',skiprows=1,low_memory = False)\n",
    "df_census[:3]"
   ]
  },
  {
   "cell_type": "code",
   "execution_count": null,
   "metadata": {
    "collapsed": false
   },
   "outputs": [],
   "source": [
    "df_housing = df_census[['Id2','Estimate; UNITS IN STRUCTURE - Total housing units - 1-unit, detached']]\n",
    "df_housing.columns = ['ZIP','Units']\n",
    "df_housing['ZIP'] = df_housing['ZIP'].apply(lambda x: str(x).zfill(5))\n",
    "df_housing[:3]"
   ]
  },
  {
   "cell_type": "code",
   "execution_count": null,
   "metadata": {
    "collapsed": false
   },
   "outputs": [],
   "source": [
    "df_byzip = df_sun.merge(df_housing)\n",
    "df_byzip[:5]\n",
    "df_byzip[\"Units\"].sum()"
   ]
  },
  {
   "cell_type": "code",
   "execution_count": null,
   "metadata": {
    "collapsed": false
   },
   "outputs": [],
   "source": [
    "print 'max sun value is ' + str(df_byzip['Sun'].max()) + '; min ' + str(df_byzip['Sun'].min()) + '; mean ' + str(df_byzip['Sun'].mean())\n",
    "print 'max units/ZIP is ' + str(df_byzip['Units'].max()) + '; min ' + str(df_byzip['Units'].min()) + '; mean ' + str(df_byzip['Units'].mean())"
   ]
  },
  {
   "cell_type": "code",
   "execution_count": null,
   "metadata": {
    "collapsed": false
   },
   "outputs": [],
   "source": [
    "# capacity is in gigawatts\n",
    "df_capacity = pd.read_csv('state_capacity_80pct_RE_ETI.csv')\n",
    "df_capacity[:50]"
   ]
  },
  {
   "cell_type": "code",
   "execution_count": null,
   "metadata": {
    "collapsed": false
   },
   "outputs": [],
   "source": [
    "# generation is in gigawatt-hours\n",
    "df_generation = pd.read_csv('state_generation_80pct_RE_ETI.csv')\n",
    "df_generation[:3]"
   ]
  },
  {
   "cell_type": "code",
   "execution_count": null,
   "metadata": {
    "collapsed": false
   },
   "outputs": [],
   "source": [
    "# don't feel like typing out the US state abbreviations\n",
    "df_states= pd.read_csv('state_table.csv')\n",
    "df_states[:3]"
   ]
  },
  {
   "cell_type": "code",
   "execution_count": null,
   "metadata": {
    "collapsed": false
   },
   "outputs": [],
   "source": [
    "df_states = df_states[['name','abbreviation']]\n",
    "df_states.columns = ['state', 'State']\n",
    "df_states[:3]"
   ]
  },
  {
   "cell_type": "code",
   "execution_count": null,
   "metadata": {
    "collapsed": false
   },
   "outputs": [],
   "source": [
    "df_capacity = df_capacity.merge(df_states)[['State','year','rooftop_pv']]\n",
    "df_capacity[:50]"
   ]
  },
  {
   "cell_type": "code",
   "execution_count": null,
   "metadata": {
    "collapsed": false
   },
   "outputs": [],
   "source": [
    "# unit_capacity = 0.010 # gigawatt-hours\n",
    "# df_generation['units_needed'] = df_generation['rooftop_pv'] / unit_capacity # units_needed = state_capacity / unit_capacity\n",
    "# df_generation['units_fraction'] = df_generation['units_needed'] / # units_fraction = units_needed / units_state\n",
    "# calculating unit_capacity:\n",
    "# 1.5 * 6000 / 250 → 6kW, a big home solar system in CA → 36 m^2\n",
    "\n",
    "unit_capacity = df_byzip['Sun'].mean()*365*.15*30/1000 # in MW-hour per year\n",
    "print 'a large home solar system will produce ' + str(unit_capacity) + ' MW-hours per year'"
   ]
  },
  {
   "cell_type": "code",
   "execution_count": null,
   "metadata": {
    "collapsed": false
   },
   "outputs": [],
   "source": [
    "df_capacity['num_systems'] = df_capacity['rooftop_pv']*1e6/5e3\n",
    "df_capacity[:5]"
   ]
  },
  {
   "cell_type": "code",
   "execution_count": null,
   "metadata": {
    "collapsed": false
   },
   "outputs": [],
   "source": [
    "# need to sum up units per state as well\n",
    "print 'number of units in Alaska: ' + str(df_byzip[df_byzip.State == 'AL']['Units'].sum())\n",
    "units_state = {}\n",
    "for state in df_byzip.State.drop_duplicates().tolist():\n",
    "    units_state[state] = df_byzip[df_byzip.State == state]['Units'].sum()\n",
    "units_state.items()[:5]"
   ]
  },
  {
   "cell_type": "code",
   "execution_count": null,
   "metadata": {
    "collapsed": true
   },
   "outputs": [],
   "source": []
  },
  {
   "cell_type": "code",
   "execution_count": null,
   "metadata": {
    "collapsed": true
   },
   "outputs": [],
   "source": []
  },
  {
   "cell_type": "code",
   "execution_count": null,
   "metadata": {
    "collapsed": true
   },
   "outputs": [],
   "source": []
  },
  {
   "cell_type": "code",
   "execution_count": null,
   "metadata": {
    "collapsed": true
   },
   "outputs": [],
   "source": []
  },
  {
   "cell_type": "code",
   "execution_count": null,
   "metadata": {
    "collapsed": true
   },
   "outputs": [],
   "source": []
  },
  {
   "cell_type": "code",
   "execution_count": null,
   "metadata": {
    "collapsed": true
   },
   "outputs": [],
   "source": []
  },
  {
   "cell_type": "code",
   "execution_count": null,
   "metadata": {
    "collapsed": true
   },
   "outputs": [],
   "source": []
  }
 ],
 "metadata": {
  "kernelspec": {
   "display_name": "Python 2",
   "language": "python",
   "name": "python2"
  },
  "language_info": {
   "codemirror_mode": {
    "name": "ipython",
    "version": 2
   },
   "file_extension": ".py",
   "mimetype": "text/x-python",
   "name": "python",
   "nbconvert_exporter": "python",
   "pygments_lexer": "ipython2",
   "version": "2.7.9"
  },
  "name": "Val_space.ipynb"
 },
 "nbformat": 4,
 "nbformat_minor": 0
}
