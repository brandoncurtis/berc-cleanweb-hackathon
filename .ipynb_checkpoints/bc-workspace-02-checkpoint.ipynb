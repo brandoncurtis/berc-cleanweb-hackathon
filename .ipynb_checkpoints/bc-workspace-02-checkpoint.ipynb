{
 "cells": [
  {
   "cell_type": "code",
   "execution_count": 25,
   "metadata": {
    "collapsed": false
   },
   "outputs": [],
   "source": [
    "import numpy as np\n",
    "import pandas as pd\n",
    "pd.options.mode.chained_assignment = None  # default='warn'"
   ]
  },
  {
   "cell_type": "code",
   "execution_count": 26,
   "metadata": {
    "collapsed": false
   },
   "outputs": [],
   "source": [
    "# US state names and abbreviations\n",
    "df_states= pd.read_csv('data/state_table.csv')\n",
    "df_states = df_states[['name','abbreviation']]\n",
    "df_states.columns = ['state', 'State']\n",
    "# df_states[:3]\n",
    "\n",
    "## get the solar data in a usable form\n",
    "df_solar = pd.read_csv('data/SolarSummaries.csv')\n",
    "df_sun = df_solar[['ZIP', 'State','Annual Average Minimum (kWh/m2/day)']]\n",
    "df_sun.columns = ['ZIP','State','Sun']\n",
    "df_sun['ZIP'] = df_sun['ZIP'].apply(lambda x: str(x).zfill(5))\n",
    "# df_sun[:3]\n",
    "\n",
    "df_census = pd.read_csv('data/ACS_13_5YR_DP04_with_ann.csv',skiprows=1,low_memory = False)\n",
    "df_housing = df_census[['Id2','Estimate; UNITS IN STRUCTURE - Total housing units - 1-unit, detached']]\n",
    "df_housing.columns = ['ZIP','Houses']\n",
    "df_housing['ZIP'] = df_housing['ZIP'].apply(lambda x: str(x).zfill(5))\n",
    "# df_housing[:3]\n",
    "\n",
    "df_byzip = df_sun.merge(df_housing)\n",
    "# df_byzip[:3]\n",
    "\n",
    "# capacity is in megawatts\n",
    "df_capacity = pd.read_csv('data/state_capacity_80pct_RE_ETI.csv')\n",
    "df_capacity = df_capacity.merge(df_states)[['State','year','rooftop_pv']]\n",
    "df_capacity['num_systems'] = df_capacity['rooftop_pv']*1e3/5 # systems, using an average system size\n",
    "# df_capacity[:3]\n",
    "# df_capacity[df_capacity.year == 2050][df_capacity.State == \"AL\"]"
   ]
  },
  {
   "cell_type": "code",
   "execution_count": 27,
   "metadata": {
    "collapsed": false
   },
   "outputs": [
    {
     "data": {
      "text/html": [
       "<div>\n",
       "<table border=\"1\" class=\"dataframe\">\n",
       "  <thead>\n",
       "    <tr style=\"text-align: right;\">\n",
       "      <th></th>\n",
       "      <th>ZIP</th>\n",
       "      <th>State</th>\n",
       "      <th>Sun</th>\n",
       "      <th>Houses</th>\n",
       "    </tr>\n",
       "  </thead>\n",
       "  <tbody>\n",
       "    <tr>\n",
       "      <th>0</th>\n",
       "      <td>01001</td>\n",
       "      <td>MA</td>\n",
       "      <td>4.48</td>\n",
       "      <td>3942</td>\n",
       "    </tr>\n",
       "    <tr>\n",
       "      <th>1</th>\n",
       "      <td>01002</td>\n",
       "      <td>MA</td>\n",
       "      <td>4.38</td>\n",
       "      <td>4594</td>\n",
       "    </tr>\n",
       "    <tr>\n",
       "      <th>2</th>\n",
       "      <td>01003</td>\n",
       "      <td>MA</td>\n",
       "      <td>4.38</td>\n",
       "      <td>0</td>\n",
       "    </tr>\n",
       "  </tbody>\n",
       "</table>\n",
       "</div>"
      ],
      "text/plain": [
       "     ZIP State   Sun  Houses\n",
       "0  01001    MA  4.48    3942\n",
       "1  01002    MA  4.38    4594\n",
       "2  01003    MA  4.38       0"
      ]
     },
     "execution_count": 27,
     "metadata": {},
     "output_type": "execute_result"
    }
   ],
   "source": [
    "df_byzip[:3]"
   ]
  },
  {
   "cell_type": "code",
   "execution_count": 28,
   "metadata": {
    "collapsed": false
   },
   "outputs": [
    {
     "data": {
      "text/html": [
       "<div>\n",
       "<table border=\"1\" class=\"dataframe\">\n",
       "  <thead>\n",
       "    <tr style=\"text-align: right;\">\n",
       "      <th></th>\n",
       "      <th>State</th>\n",
       "      <th>year</th>\n",
       "      <th>rooftop_pv</th>\n",
       "      <th>num_systems</th>\n",
       "    </tr>\n",
       "  </thead>\n",
       "  <tbody>\n",
       "    <tr>\n",
       "      <th>0</th>\n",
       "      <td>AL</td>\n",
       "      <td>2010</td>\n",
       "      <td>0.19</td>\n",
       "      <td>38</td>\n",
       "    </tr>\n",
       "    <tr>\n",
       "      <th>1</th>\n",
       "      <td>AL</td>\n",
       "      <td>2012</td>\n",
       "      <td>0.19</td>\n",
       "      <td>38</td>\n",
       "    </tr>\n",
       "    <tr>\n",
       "      <th>2</th>\n",
       "      <td>AL</td>\n",
       "      <td>2014</td>\n",
       "      <td>0.21</td>\n",
       "      <td>42</td>\n",
       "    </tr>\n",
       "  </tbody>\n",
       "</table>\n",
       "</div>"
      ],
      "text/plain": [
       "  State  year  rooftop_pv  num_systems\n",
       "0    AL  2010        0.19           38\n",
       "1    AL  2012        0.19           38\n",
       "2    AL  2014        0.21           42"
      ]
     },
     "execution_count": 28,
     "metadata": {},
     "output_type": "execute_result"
    }
   ],
   "source": [
    "df_capacity[:3]"
   ]
  },
  {
   "cell_type": "code",
   "execution_count": 29,
   "metadata": {
    "collapsed": false
   },
   "outputs": [
    {
     "name": "stdout",
     "output_type": "stream",
     "text": [
      "number of houses in Alaska: 1487712\n"
     ]
    },
    {
     "data": {
      "text/plain": [
       "[('WA', 1834311),\n",
       " ('DE', 238313),\n",
       " ('DC', 35892),\n",
       " ('WI', 1745464),\n",
       " ('WV', 616807)]"
      ]
     },
     "execution_count": 29,
     "metadata": {},
     "output_type": "execute_result"
    }
   ],
   "source": [
    "# create a dictionary: number of houses per state\n",
    "print 'number of houses in Alaska: ' + str(df_byzip[df_byzip.State == 'AL']['Houses'].sum())\n",
    "houses_state = {}\n",
    "list_states = df_byzip.State.drop_duplicates().tolist()\n",
    "for state in list_states:\n",
    "    houses_state[state] = df_byzip[df_byzip.State == state]['Houses'].sum()\n",
    "houses_state.items()[:5]"
   ]
  },
  {
   "cell_type": "code",
   "execution_count": 30,
   "metadata": {
    "collapsed": false
   },
   "outputs": [
    {
     "data": {
      "text/plain": [
       "[('WA', 0.0010369015941135392),\n",
       " ('DE', 0.0014518721177610957),\n",
       " ('DC', 0),\n",
       " ('WI', 2.1770715408624871e-05),\n",
       " ('WV', 0.0)]"
      ]
     },
     "execution_count": 30,
     "metadata": {},
     "output_type": "execute_result"
    }
   ],
   "source": [
    "# create dictionary: fraction of houses with solar, by state\n",
    "\n",
    "# growth factor between now and target year\n",
    "growth_factor=1.00 # 1.00 = no growth\n",
    "target_year=2010\n",
    "\n",
    "# fraction of houses with solar, on a state basis\n",
    "df_capacity['num_houses'] = df_capacity['State'].apply(lambda x: houses_state[x]*growth_factor)\n",
    "df_capacity['solar_fraction'] = df_capacity['num_systems'] / df_capacity['num_houses']\n",
    "df_capacity[df_capacity.State == 'CA'][df_capacity.year == target_year][:5]\n",
    "\n",
    "# THIS WORKS, USE IT\n",
    "# df_capacity[df_capacity.State == 'CA'][df_capacity.year == 2050]['solar_fraction'].iloc[0]\n",
    "\n",
    "solarfraction_state = {}\n",
    "for state in list_states:\n",
    "    try: solarfraction_state[state] = df_capacity[df_capacity.State == state][df_capacity.year == target_year]['solar_fraction'].iloc[0]\n",
    "    except: solarfraction_state[state] = 0\n",
    "    \n",
    "solarfraction_state.items()[:5]"
   ]
  },
  {
   "cell_type": "code",
   "execution_count": 31,
   "metadata": {
    "collapsed": false
   },
   "outputs": [
    {
     "data": {
      "text/html": [
       "<div>\n",
       "<table border=\"1\" class=\"dataframe\">\n",
       "  <thead>\n",
       "    <tr style=\"text-align: right;\">\n",
       "      <th></th>\n",
       "      <th>ZIP</th>\n",
       "      <th>State</th>\n",
       "      <th>Sun</th>\n",
       "      <th>Houses</th>\n",
       "      <th>Solar Fraction</th>\n",
       "      <th>Solar Houses</th>\n",
       "    </tr>\n",
       "  </thead>\n",
       "  <tbody>\n",
       "    <tr>\n",
       "      <th>0</th>\n",
       "      <td>01001</td>\n",
       "      <td>MA</td>\n",
       "      <td>4.48</td>\n",
       "      <td>3942</td>\n",
       "      <td>0.000943</td>\n",
       "      <td>4</td>\n",
       "    </tr>\n",
       "    <tr>\n",
       "      <th>1</th>\n",
       "      <td>01002</td>\n",
       "      <td>MA</td>\n",
       "      <td>4.38</td>\n",
       "      <td>4594</td>\n",
       "      <td>0.000943</td>\n",
       "      <td>4</td>\n",
       "    </tr>\n",
       "    <tr>\n",
       "      <th>2</th>\n",
       "      <td>01003</td>\n",
       "      <td>MA</td>\n",
       "      <td>4.38</td>\n",
       "      <td>0</td>\n",
       "      <td>0.000943</td>\n",
       "      <td>0</td>\n",
       "    </tr>\n",
       "  </tbody>\n",
       "</table>\n",
       "</div>"
      ],
      "text/plain": [
       "     ZIP State   Sun  Houses  Solar Fraction  Solar Houses\n",
       "0  01001    MA  4.48    3942        0.000943             4\n",
       "1  01002    MA  4.38    4594        0.000943             4\n",
       "2  01003    MA  4.38       0        0.000943             0"
      ]
     },
     "execution_count": 31,
     "metadata": {},
     "output_type": "execute_result"
    }
   ],
   "source": [
    "# use the dictionaries to build dataframe with number of houses, solar houses by zip\n",
    "\n",
    "df_byzip['Solar Fraction'] = df_byzip['State'].apply(lambda x: solarfraction_state[x])\n",
    "df_byzip['Solar Houses'] = (df_byzip['Houses']*df_byzip['Solar Fraction']).round()\n",
    "df_byzip[:3]"
   ]
  },
  {
   "cell_type": "code",
   "execution_count": 32,
   "metadata": {
    "collapsed": false
   },
   "outputs": [],
   "source": [
    "# write the dataframe to a file\n",
    "\n",
    "df_byzip.to_csv('data/solarhouses_byzip_'+str(target_year)+'.csv')"
   ]
  },
  {
   "cell_type": "code",
   "execution_count": null,
   "metadata": {
    "collapsed": true
   },
   "outputs": [],
   "source": []
  }
 ],
 "metadata": {
  "kernelspec": {
   "display_name": "Python 2",
   "language": "python",
   "name": "python2"
  },
  "language_info": {
   "codemirror_mode": {
    "name": "ipython",
    "version": 2
   },
   "file_extension": ".py",
   "mimetype": "text/x-python",
   "name": "python",
   "nbconvert_exporter": "python",
   "pygments_lexer": "ipython2",
   "version": "2.7.9"
  },
  "name": "bc-workspace-02.ipynb"
 },
 "nbformat": 4,
 "nbformat_minor": 0
}
