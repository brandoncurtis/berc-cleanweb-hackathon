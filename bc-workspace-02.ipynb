{
 "cells": [
  {
   "cell_type": "code",
   "execution_count": 15,
   "metadata": {
    "collapsed": false
   },
   "outputs": [],
   "source": [
    "import numpy as np\n",
    "import pandas as pd\n",
    "import matplotlib.pyplot as plt\n",
    "pd.options.mode.chained_assignment = None  # default='warn'\n",
    "\n",
    "# US state names and abbreviations\n",
    "df_states= pd.read_csv('data/state_table.csv')\n",
    "df_states = df_states[['name','abbreviation']]\n",
    "df_states.columns = ['state', 'State']\n",
    "# df_states[:3]\n",
    "\n",
    "## get the solar data in a usable form\n",
    "df_solar = pd.read_csv('data/SolarSummaries.csv')\n",
    "df_sun = df_solar[['ZIP', 'State','Annual Average Minimum (kWh/m2/day)']]\n",
    "df_sun.columns = ['ZIP','State','Sun']\n",
    "df_sun['ZIP'] = df_sun['ZIP'].apply(lambda x: str(x).zfill(5))\n",
    "# df_sun[:3]\n",
    "\n",
    "df_census = pd.read_csv('data/ACS_13_5YR_DP04_with_ann.csv',skiprows=1,low_memory = False)\n",
    "df_housing = df_census[['Id2','Estimate; UNITS IN STRUCTURE - Total housing units - 1-unit, detached']]\n",
    "df_housing.columns = ['ZIP','Houses']\n",
    "df_housing['ZIP'] = df_housing['ZIP'].apply(lambda x: str(x).zfill(5))\n",
    "# df_housing[:3]\n",
    "\n",
    "df_byzip = df_sun.merge(df_housing)\n",
    "# df_byzip[:3]\n",
    "\n",
    "# capacity is in megawatts\n",
    "df_capacity = pd.read_csv('data/state_capacity_80pct_RE_ETI.csv')\n",
    "df_capacity = df_capacity.merge(df_states)[['State','year','rooftop_pv']]\n",
    "df_capacity['num_systems'] = df_capacity['rooftop_pv']*1e3/5 # systems, using an average system size\n",
    "# df_capacity[:3]\n",
    "# df_capacity[df_capacity.year == 2050][df_capacity.State == \"AL\"]\n",
    "\n",
    "# create a dictionary: number of houses per state\n",
    "#print 'number of houses in Alaska: ' + str(df_byzip[df_byzip.State == 'AL']['Houses'].sum())\n",
    "houses_state = {}\n",
    "list_states = df_byzip.State.drop_duplicates().tolist()\n",
    "for state in list_states:\n",
    "    houses_state[state] = df_byzip[df_byzip.State == state]['Houses'].sum()\n",
    "#houses_state.items()[:5]"
   ]
  },
  {
   "cell_type": "code",
   "execution_count": 11,
   "metadata": {
    "collapsed": false
   },
   "outputs": [],
   "source": [
    "# create dictionary: fraction of houses with solar, by state\n",
    "\n",
    "# growth factor between now and target year\n",
    "#growth_factor=1.00 # 1.00 = no growth\n",
    "#target_year=2010\n",
    "\n",
    "for year in range(2010,2052,2):\n",
    "    target_year=year\n",
    "\n",
    "    # fraction of houses with solar, on a state basis\n",
    "    df_capacity['num_houses'] = df_capacity['State'].apply(lambda x: houses_state[x]*growth_factor)\n",
    "    df_capacity['solar_fraction'] = df_capacity['num_systems'] / df_capacity['num_houses']\n",
    "    df_capacity[df_capacity.State == 'CA'][df_capacity.year == target_year][:5]\n",
    "\n",
    "    # THIS WORKS, USE IT\n",
    "    # df_capacity[df_capacity.State == 'CA'][df_capacity.year == 2050]['solar_fraction'].iloc[0]\n",
    "\n",
    "    solarfraction_state = {}\n",
    "    for state in list_states:\n",
    "        try: solarfraction_state[state] = df_capacity[df_capacity.State == state][df_capacity.year == target_year]['solar_fraction'].iloc[0]\n",
    "        except: solarfraction_state[state] = 0\n",
    "\n",
    "    #solarfraction_state.items()[:5]\n",
    "\n",
    "    # use the dictionaries to build dataframe with number of houses, solar houses by zip\n",
    "    df_byzip['Solar Fraction'] = df_byzip['State'].apply(lambda x: solarfraction_state[x])\n",
    "    df_byzip['Solar Houses'] = (df_byzip['Houses']*df_byzip['Solar Fraction']).round()\n",
    "    df_byzip[:3]\n",
    "\n",
    "    # write the dataframe to a file\n",
    "    df_byzip.to_csv('data/solarhouses_byzip_'+str(target_year)+'.csv')"
   ]
  },
  {
   "cell_type": "code",
   "execution_count": 38,
   "metadata": {
    "collapsed": false
   },
   "outputs": [],
   "source": [
    "df_total = []\n",
    "years = [i for i in range(2010,2052,2)]\n",
    "\n",
    "for year in years:\n",
    "    df = pd.read_csv('data/solarhouses_byzip_'+str(year)+'.csv')\n",
    "    df['Year']=year\n",
    "    df_total.append(df)"
   ]
  },
  {
   "cell_type": "code",
   "execution_count": 42,
   "metadata": {
    "collapsed": false
   },
   "outputs": [
    {
     "data": {
      "text/plain": [
       "<matplotlib.text.Text at 0x7f5876eef990>"
      ]
     },
     "execution_count": 42,
     "metadata": {},
     "output_type": "execute_result"
    },
    {
     "data": {
      "image/png": "[encoded data removed]",
      "text/plain": [
       "<matplotlib.figure.Figure at 0x7f587729e310>"
      ]
     },
     "metadata": {},
     "output_type": "display_data"
    }
   ],
   "source": [
    "%matplotlib inline\n",
    "solar_percent = []\n",
    "\n",
    "##########################\n",
    "### ENTER YOUR ZIPCODE ###\n",
    "##########################\n",
    "\n",
    "my_zip = 94709\n",
    "\n",
    "for df in df_total:\n",
    "    solar_percent.append(df[df.ZIP==my_zip]['Solar Fraction'].iloc[0])\n",
    "\n",
    "plt.plot(years,solar_percent)\n",
    "plt.title('Solar Market Penetration for ' + str(my_zip))"
   ]
  },
  {
   "cell_type": "code",
   "execution_count": null,
   "metadata": {
    "collapsed": true
   },
   "outputs": [],
   "source": []
  }
 ],
 "metadata": {
  "kernelspec": {
   "display_name": "Python 2",
   "language": "python",
   "name": "python2"
  },
  "language_info": {
   "codemirror_mode": {
    "name": "ipython",
    "version": 2
   },
   "file_extension": ".py",
   "mimetype": "text/x-python",
   "name": "python",
   "nbconvert_exporter": "python",
   "pygments_lexer": "ipython2",
   "version": "2.7.9"
  },
  "name": "bc-workspace-02.ipynb"
 },
 "nbformat": 4,
 "nbformat_minor": 0
}
